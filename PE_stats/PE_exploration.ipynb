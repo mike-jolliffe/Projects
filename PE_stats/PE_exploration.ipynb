{
 "cells": [
  {
   "cell_type": "code",
   "execution_count": 1,
   "metadata": {
    "collapsed": true
   },
   "outputs": [],
   "source": [
    "import pandas as pd\n",
    "import numpy as np\n",
    "from numpy.polynomial.polynomial import polyfit\n",
    "import matplotlib.pyplot as plt\n",
    "%matplotlib inline"
   ]
  },
  {
   "cell_type": "code",
   "execution_count": 2,
   "metadata": {},
   "outputs": [
    {
     "data": {
      "text/html": [
       "<div>\n",
       "<style>\n",
       "    .dataframe thead tr:only-child th {\n",
       "        text-align: right;\n",
       "    }\n",
       "\n",
       "    .dataframe thead th {\n",
       "        text-align: left;\n",
       "    }\n",
       "\n",
       "    .dataframe tbody tr th {\n",
       "        vertical-align: top;\n",
       "    }\n",
       "</style>\n",
       "<table border=\"1\" class=\"dataframe\">\n",
       "  <thead>\n",
       "    <tr style=\"text-align: right;\">\n",
       "      <th></th>\n",
       "      <th>Date</th>\n",
       "      <th>S&amp;P Comp Price</th>\n",
       "      <th>Real Price</th>\n",
       "      <th>CAPE (Shiller P/E 10)</th>\n",
       "    </tr>\n",
       "  </thead>\n",
       "  <tbody>\n",
       "    <tr>\n",
       "      <th>0</th>\n",
       "      <td>1871.01</td>\n",
       "      <td>4.44</td>\n",
       "      <td>89.52</td>\n",
       "      <td>NaN</td>\n",
       "    </tr>\n",
       "    <tr>\n",
       "      <th>1</th>\n",
       "      <td>1871.02</td>\n",
       "      <td>4.50</td>\n",
       "      <td>88.04</td>\n",
       "      <td>NaN</td>\n",
       "    </tr>\n",
       "    <tr>\n",
       "      <th>2</th>\n",
       "      <td>1871.03</td>\n",
       "      <td>4.61</td>\n",
       "      <td>88.87</td>\n",
       "      <td>NaN</td>\n",
       "    </tr>\n",
       "    <tr>\n",
       "      <th>3</th>\n",
       "      <td>1871.04</td>\n",
       "      <td>4.74</td>\n",
       "      <td>94.84</td>\n",
       "      <td>NaN</td>\n",
       "    </tr>\n",
       "    <tr>\n",
       "      <th>4</th>\n",
       "      <td>1871.05</td>\n",
       "      <td>4.86</td>\n",
       "      <td>99.50</td>\n",
       "      <td>NaN</td>\n",
       "    </tr>\n",
       "  </tbody>\n",
       "</table>\n",
       "</div>"
      ],
      "text/plain": [
       "      Date  S&P Comp Price  Real Price  CAPE (Shiller P/E 10)\n",
       "0  1871.01            4.44       89.52                    NaN\n",
       "1  1871.02            4.50       88.04                    NaN\n",
       "2  1871.03            4.61       88.87                    NaN\n",
       "3  1871.04            4.74       94.84                    NaN\n",
       "4  1871.05            4.86       99.50                    NaN"
      ]
     },
     "execution_count": 2,
     "metadata": {},
     "output_type": "execute_result"
    }
   ],
   "source": [
    "raw = pd.read_csv(\"Shiller_PE.csv\")\n",
    "df = pd.DataFrame(raw)\n",
    "df.head()"
   ]
  },
  {
   "cell_type": "code",
   "execution_count": 3,
   "metadata": {
    "collapsed": true
   },
   "outputs": [],
   "source": [
    "all_periods = []\n",
    "for ix, val in enumerate(df[\"CAPE (Shiller P/E 10)\"]):\n",
    "    if not pd.isnull(val):\n",
    "        all_periods.append((str(df[\"Date\"][ix]).split(\".\"), df[\"Real Price\"][ix], val))"
   ]
  },
  {
   "cell_type": "code",
   "execution_count": 4,
   "metadata": {
    "collapsed": true
   },
   "outputs": [],
   "source": [
    "loss_1_year = []\n",
    "for ix, month_year in enumerate(all_periods):\n",
    "    try:\n",
    "        future_val = all_periods[ix + 12][1]\n",
    "        pct_change = (future_val - month_year[1]) / month_year[1]\n",
    "        loss_1_year.append((month_year[0], month_year[2], pct_change))\n",
    "    except:\n",
    "        pass"
   ]
  },
  {
   "cell_type": "code",
   "execution_count": 5,
   "metadata": {},
   "outputs": [
    {
     "data": {
      "image/png": "[encoded data removed]",
      "text/plain": [
       "<matplotlib.figure.Figure at 0x110083eb8>"
      ]
     },
     "metadata": {},
     "output_type": "display_data"
    }
   ],
   "source": [
    "future_change = pd.DataFrame(loss_1_year)\n",
    "# future_change.head(100)\n",
    "plot = future_change.plot(1, 2, kind='scatter', xlim=(0,45), ylim=(-1.00, 2))"
   ]
  },
  {
   "cell_type": "code",
   "execution_count": 6,
   "metadata": {
    "collapsed": true
   },
   "outputs": [],
   "source": [
    "freq_dict = {\n",
    "    '<5': [],\n",
    "    '5-10': [],\n",
    "    '10-15': [],\n",
    "    '15-20': [],\n",
    "    '20-25': [],\n",
    "    '25-30': [],\n",
    "    '30-35': [],\n",
    "    '35-40': [],\n",
    "    '40-45': [],\n",
    "#     '45-50': []\n",
    "}\n",
    "\n",
    "for val in loss_1_year:\n",
    "    if val[1] < 5:\n",
    "        freq_dict['<5'].append(val[2])\n",
    "    elif val[1] < 10:\n",
    "        freq_dict['5-10'].append(val[2])\n",
    "    elif val[1] < 15:\n",
    "        freq_dict['10-15'].append(val[2])\n",
    "    elif val[1] < 20:\n",
    "        freq_dict['15-20'].append(val[2])\n",
    "    elif val[1] < 25:\n",
    "        freq_dict['20-25'].append(val[2])\n",
    "    elif val[1] < 30:\n",
    "        freq_dict['25-30'].append(val[2])\n",
    "    elif val[1] < 35:\n",
    "        freq_dict['30-35'].append(val[2])\n",
    "    elif val[1] < 40:\n",
    "        freq_dict['35-40'].append(val[2])\n",
    "    elif val[1] < 45:\n",
    "        freq_dict['40-45'].append(val[2])\n",
    "#     elif val[1] < 50:\n",
    "#         freq_dict['45-50'].append(val[2])"
   ]
  },
  {
   "cell_type": "code",
   "execution_count": 7,
   "metadata": {},
   "outputs": [
    {
     "data": {
      "text/html": [
       "<div>\n",
       "<style>\n",
       "    .dataframe thead tr:only-child th {\n",
       "        text-align: right;\n",
       "    }\n",
       "\n",
       "    .dataframe thead th {\n",
       "        text-align: left;\n",
       "    }\n",
       "\n",
       "    .dataframe tbody tr th {\n",
       "        vertical-align: top;\n",
       "    }\n",
       "</style>\n",
       "<table border=\"1\" class=\"dataframe\">\n",
       "  <thead>\n",
       "    <tr style=\"text-align: right;\">\n",
       "      <th></th>\n",
       "      <th>bin</th>\n",
       "      <th>average 1-yr return</th>\n",
       "      <th>PE Ratio</th>\n",
       "    </tr>\n",
       "  </thead>\n",
       "  <tbody>\n",
       "    <tr>\n",
       "      <th>0</th>\n",
       "      <td>&lt;5</td>\n",
       "      <td>0.203718</td>\n",
       "      <td>2.0</td>\n",
       "    </tr>\n",
       "    <tr>\n",
       "      <th>1</th>\n",
       "      <td>5-10</td>\n",
       "      <td>0.087301</td>\n",
       "      <td>7.5</td>\n",
       "    </tr>\n",
       "    <tr>\n",
       "      <th>2</th>\n",
       "      <td>10-15</td>\n",
       "      <td>0.065944</td>\n",
       "      <td>12.5</td>\n",
       "    </tr>\n",
       "    <tr>\n",
       "      <th>3</th>\n",
       "      <td>15-20</td>\n",
       "      <td>0.012314</td>\n",
       "      <td>17.5</td>\n",
       "    </tr>\n",
       "    <tr>\n",
       "      <th>4</th>\n",
       "      <td>20-25</td>\n",
       "      <td>0.013479</td>\n",
       "      <td>22.5</td>\n",
       "    </tr>\n",
       "    <tr>\n",
       "      <th>5</th>\n",
       "      <td>25-30</td>\n",
       "      <td>0.029879</td>\n",
       "      <td>27.5</td>\n",
       "    </tr>\n",
       "    <tr>\n",
       "      <th>6</th>\n",
       "      <td>30-35</td>\n",
       "      <td>-0.016930</td>\n",
       "      <td>32.5</td>\n",
       "    </tr>\n",
       "    <tr>\n",
       "      <th>7</th>\n",
       "      <td>35-40</td>\n",
       "      <td>0.039134</td>\n",
       "      <td>37.5</td>\n",
       "    </tr>\n",
       "    <tr>\n",
       "      <th>8</th>\n",
       "      <td>40-45</td>\n",
       "      <td>-0.054281</td>\n",
       "      <td>42.5</td>\n",
       "    </tr>\n",
       "  </tbody>\n",
       "</table>\n",
       "</div>"
      ],
      "text/plain": [
       "     bin  average 1-yr return  PE Ratio\n",
       "0     <5             0.203718       2.0\n",
       "1   5-10             0.087301       7.5\n",
       "2  10-15             0.065944      12.5\n",
       "3  15-20             0.012314      17.5\n",
       "4  20-25             0.013479      22.5\n",
       "5  25-30             0.029879      27.5\n",
       "6  30-35            -0.016930      32.5\n",
       "7  35-40             0.039134      37.5\n",
       "8  40-45            -0.054281      42.5"
      ]
     },
     "execution_count": 7,
     "metadata": {},
     "output_type": "execute_result"
    }
   ],
   "source": [
    "avg_change = [(key, np.mean(value)) for key, value in freq_dict.items()]\n",
    "new_df = pd.DataFrame(avg_change)\n",
    "new_df['PE Ratio'] = [2,7.5,12.5,17.5,22.5,27.5,32.5,37.5,42.5]\n",
    "new_df.columns = ['bin', 'average 1-yr return', 'PE Ratio']\n",
    "new_df"
   ]
  },
  {
   "cell_type": "code",
   "execution_count": 8,
   "metadata": {},
   "outputs": [
    {
     "data": {
      "text/plain": [
       "<matplotlib.axes._subplots.AxesSubplot at 0x1102c3e10>"
      ]
     },
     "execution_count": 8,
     "metadata": {},
     "output_type": "execute_result"
    },
    {
     "data": {
      "image/png": "[encoded data removed]",
      "text/plain": [
       "<matplotlib.figure.Figure at 0x110190240>"
      ]
     },
     "metadata": {},
     "output_type": "display_data"
    }
   ],
   "source": [
    "\n",
    "new_df.plot('PE Ratio',1, kind='scatter', figsize=(12,6))\n"
   ]
  },
  {
   "cell_type": "code",
   "execution_count": 9,
   "metadata": {},
   "outputs": [],
   "source": [
    "loss_10_year = []\n",
    "for ix, month_year in enumerate(all_periods):\n",
    "    try:\n",
    "        future_val = all_periods[ix + 120][1]\n",
    "        pct_change = (future_val - month_year[1]) / month_year[1]\n",
    "        loss_10_year.append((month_year[0], month_year[2], pct_change))\n",
    "    except:\n",
    "        pass"
   ]
  },
  {
   "cell_type": "code",
   "execution_count": 10,
   "metadata": {},
   "outputs": [],
   "source": [
    "freq_dict_10 = {\n",
    "    '<5': [],\n",
    "    '5-10': [],\n",
    "    '10-15': [],\n",
    "    '15-20': [],\n",
    "    '20-25': [],\n",
    "    '25-30': [],\n",
    "    '30-35': [],\n",
    "    '35-40': [],\n",
    "    '40-45': [],\n",
    "#     '45-50': []\n",
    "}\n",
    "\n",
    "for val in loss_10_year:\n",
    "    if val[1] < 5:\n",
    "        freq_dict_10['<5'].append(val[2])\n",
    "    elif val[1] < 10:\n",
    "        freq_dict_10['5-10'].append(val[2])\n",
    "    elif val[1] < 15:\n",
    "        freq_dict_10['10-15'].append(val[2])\n",
    "    elif val[1] < 20:\n",
    "        freq_dict_10['15-20'].append(val[2])\n",
    "    elif val[1] < 25:\n",
    "        freq_dict_10['20-25'].append(val[2])\n",
    "    elif val[1] < 30:\n",
    "        freq_dict_10['25-30'].append(val[2])\n",
    "    elif val[1] < 35:\n",
    "        freq_dict_10['30-35'].append(val[2])\n",
    "    elif val[1] < 40:\n",
    "        freq_dict_10['35-40'].append(val[2])\n",
    "    elif val[1] < 45:\n",
    "        freq_dict_10['40-45'].append(val[2])"
   ]
  },
  {
   "cell_type": "code",
   "execution_count": 11,
   "metadata": {},
   "outputs": [
    {
     "data": {
      "text/html": [
       "<div>\n",
       "<style>\n",
       "    .dataframe thead tr:only-child th {\n",
       "        text-align: right;\n",
       "    }\n",
       "\n",
       "    .dataframe thead th {\n",
       "        text-align: left;\n",
       "    }\n",
       "\n",
       "    .dataframe tbody tr th {\n",
       "        vertical-align: top;\n",
       "    }\n",
       "</style>\n",
       "<table border=\"1\" class=\"dataframe\">\n",
       "  <thead>\n",
       "    <tr style=\"text-align: right;\">\n",
       "      <th></th>\n",
       "      <th>bin</th>\n",
       "      <th>average 10-yr return</th>\n",
       "      <th>PE Ratio</th>\n",
       "    </tr>\n",
       "  </thead>\n",
       "  <tbody>\n",
       "    <tr>\n",
       "      <th>0</th>\n",
       "      <td>&lt;5</td>\n",
       "      <td>1.744360</td>\n",
       "      <td>2.0</td>\n",
       "    </tr>\n",
       "    <tr>\n",
       "      <th>1</th>\n",
       "      <td>5-10</td>\n",
       "      <td>0.884003</td>\n",
       "      <td>7.5</td>\n",
       "    </tr>\n",
       "    <tr>\n",
       "      <th>2</th>\n",
       "      <td>10-15</td>\n",
       "      <td>0.436994</td>\n",
       "      <td>12.5</td>\n",
       "    </tr>\n",
       "    <tr>\n",
       "      <th>3</th>\n",
       "      <td>15-20</td>\n",
       "      <td>0.279407</td>\n",
       "      <td>17.5</td>\n",
       "    </tr>\n",
       "    <tr>\n",
       "      <th>4</th>\n",
       "      <td>20-25</td>\n",
       "      <td>0.039458</td>\n",
       "      <td>22.5</td>\n",
       "    </tr>\n",
       "    <tr>\n",
       "      <th>5</th>\n",
       "      <td>25-30</td>\n",
       "      <td>0.255556</td>\n",
       "      <td>27.5</td>\n",
       "    </tr>\n",
       "    <tr>\n",
       "      <th>6</th>\n",
       "      <td>30-35</td>\n",
       "      <td>-0.045871</td>\n",
       "      <td>32.5</td>\n",
       "    </tr>\n",
       "    <tr>\n",
       "      <th>7</th>\n",
       "      <td>35-40</td>\n",
       "      <td>-0.211461</td>\n",
       "      <td>37.5</td>\n",
       "    </tr>\n",
       "    <tr>\n",
       "      <th>8</th>\n",
       "      <td>40-45</td>\n",
       "      <td>-0.422822</td>\n",
       "      <td>42.5</td>\n",
       "    </tr>\n",
       "  </tbody>\n",
       "</table>\n",
       "</div>"
      ],
      "text/plain": [
       "     bin  average 10-yr return  PE Ratio\n",
       "0     <5              1.744360       2.0\n",
       "1   5-10              0.884003       7.5\n",
       "2  10-15              0.436994      12.5\n",
       "3  15-20              0.279407      17.5\n",
       "4  20-25              0.039458      22.5\n",
       "5  25-30              0.255556      27.5\n",
       "6  30-35             -0.045871      32.5\n",
       "7  35-40             -0.211461      37.5\n",
       "8  40-45             -0.422822      42.5"
      ]
     },
     "execution_count": 11,
     "metadata": {},
     "output_type": "execute_result"
    }
   ],
   "source": [
    "avg_change_10 = [(key, np.mean(value)) for key, value in freq_dict_10.items()]\n",
    "new_df_10 = pd.DataFrame(avg_change_10)\n",
    "new_df_10['PE Ratio'] = [2,7.5,12.5,17.5,22.5,27.5,32.5,37.5,42.5]\n",
    "new_df_10.columns = ['bin', 'average 10-yr return', 'PE Ratio']\n",
    "new_df_10"
   ]
  },
  {
   "cell_type": "code",
   "execution_count": 15,
   "metadata": {},
   "outputs": [
    {
     "data": {
      "image/png": "[encoded data removed]",
      "text/plain": [
       "<matplotlib.figure.Figure at 0x110693a90>"
      ]
     },
     "metadata": {},
     "output_type": "display_data"
    }
   ],
   "source": [
    "# Fit with polyfit\n",
    "x = new_df_10['PE Ratio']\n",
    "y = new_df_10['average 10-yr return']\n",
    "b, m = polyfit(x, y, 1)\n",
    "\n",
    "plt.figure(figsize=(12,6))\n",
    "plt.plot(x, y, '.')\n",
    "plt.plot(x, b + m * x, '-')\n",
    "plt.show()\n",
    "\n",
    "# new_df_10.plot('PE Ratio',1, kind='scatter', figsize=(12,6))\n"
   ]
  },
  {
   "cell_type": "code",
   "execution_count": null,
   "metadata": {
    "collapsed": true
   },
   "outputs": [],
   "source": []
  }
 ],
 "metadata": {
  "kernelspec": {
   "display_name": "Python 3",
   "language": "python",
   "name": "python3"
  },
  "language_info": {
   "codemirror_mode": {
    "name": "ipython",
    "version": 3
   },
   "file_extension": ".py",
   "mimetype": "text/x-python",
   "name": "python",
   "nbconvert_exporter": "python",
   "pygments_lexer": "ipython3",
   "version": "3.6.2"
  }
 },
 "nbformat": 4,
 "nbformat_minor": 2
}
