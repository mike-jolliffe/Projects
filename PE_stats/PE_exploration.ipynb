{
 "cells": [
  {
   "cell_type": "code",
   "execution_count": 1,
   "metadata": {
    "collapsed": true
   },
   "outputs": [],
   "source": [
    "import pandas as pd\n",
    "import numpy as np\n",
    "from numpy.polynomial.polynomial import polyfit\n",
    "import matplotlib.pyplot as plt\n",
    "%matplotlib inline"
   ]
  },
  {
   "cell_type": "code",
   "execution_count": 2,
   "metadata": {},
   "outputs": [
    {
     "data": {
      "text/html": [
       "<div>\n",
       "<style>\n",
       "    .dataframe thead tr:only-child th {\n",
       "        text-align: right;\n",
       "    }\n",
       "\n",
       "    .dataframe thead th {\n",
       "        text-align: left;\n",
       "    }\n",
       "\n",
       "    .dataframe tbody tr th {\n",
       "        vertical-align: top;\n",
       "    }\n",
       "</style>\n",
       "<table border=\"1\" class=\"dataframe\">\n",
       "  <thead>\n",
       "    <tr style=\"text-align: right;\">\n",
       "      <th></th>\n",
       "      <th>Date</th>\n",
       "      <th>S&amp;P Comp Price</th>\n",
       "      <th>Real Price</th>\n",
       "      <th>CAPE (Shiller P/E 10)</th>\n",
       "    </tr>\n",
       "  </thead>\n",
       "  <tbody>\n",
       "    <tr>\n",
       "      <th>0</th>\n",
       "      <td>1871.01</td>\n",
       "      <td>4.44</td>\n",
       "      <td>89.52</td>\n",
       "      <td>NaN</td>\n",
       "    </tr>\n",
       "    <tr>\n",
       "      <th>1</th>\n",
       "      <td>1871.02</td>\n",
       "      <td>4.50</td>\n",
       "      <td>88.04</td>\n",
       "      <td>NaN</td>\n",
       "    </tr>\n",
       "    <tr>\n",
       "      <th>2</th>\n",
       "      <td>1871.03</td>\n",
       "      <td>4.61</td>\n",
       "      <td>88.87</td>\n",
       "      <td>NaN</td>\n",
       "    </tr>\n",
       "    <tr>\n",
       "      <th>3</th>\n",
       "      <td>1871.04</td>\n",
       "      <td>4.74</td>\n",
       "      <td>94.84</td>\n",
       "      <td>NaN</td>\n",
       "    </tr>\n",
       "    <tr>\n",
       "      <th>4</th>\n",
       "      <td>1871.05</td>\n",
       "      <td>4.86</td>\n",
       "      <td>99.50</td>\n",
       "      <td>NaN</td>\n",
       "    </tr>\n",
       "  </tbody>\n",
       "</table>\n",
       "</div>"
      ],
      "text/plain": [
       "      Date  S&P Comp Price  Real Price  CAPE (Shiller P/E 10)\n",
       "0  1871.01            4.44       89.52                    NaN\n",
       "1  1871.02            4.50       88.04                    NaN\n",
       "2  1871.03            4.61       88.87                    NaN\n",
       "3  1871.04            4.74       94.84                    NaN\n",
       "4  1871.05            4.86       99.50                    NaN"
      ]
     },
     "execution_count": 2,
     "metadata": {},
     "output_type": "execute_result"
    }
   ],
   "source": [
    "raw = pd.read_csv(\"Shiller_PE.csv\")\n",
    "df = pd.DataFrame(raw)\n",
    "df.head()"
   ]
  },
  {
   "cell_type": "code",
   "execution_count": 3,
   "metadata": {
    "collapsed": true
   },
   "outputs": [],
   "source": [
    "all_periods = []\n",
    "for ix, val in enumerate(df[\"CAPE (Shiller P/E 10)\"]):\n",
    "    if not pd.isnull(val):\n",
    "        all_periods.append((str(df[\"Date\"][ix]).split(\".\"), df[\"Real Price\"][ix], val))"
   ]
  },
  {
   "cell_type": "code",
   "execution_count": 4,
   "metadata": {
    "collapsed": true
   },
   "outputs": [],
   "source": [
    "loss_1_year = []\n",
    "for ix, month_year in enumerate(all_periods):\n",
    "    try:\n",
    "        future_val = all_periods[ix + 12][1]\n",
    "        pct_change = (future_val - month_year[1]) / month_year[1]\n",
    "        loss_1_year.append((month_year[0], month_year[2], pct_change))\n",
    "    except:\n",
    "        pass"
   ]
  },
  {
   "cell_type": "code",
   "execution_count": 5,
   "metadata": {},
   "outputs": [
    {
     "data": {
      "image/png": "[encoded data removed]",
      "text/plain": [
       "<matplotlib.figure.Figure at 0x10f6059e8>"
      ]
     },
     "metadata": {},
     "output_type": "display_data"
    }
   ],
   "source": [
    "future_change = pd.DataFrame(loss_1_year)\n",
    "# future_change.head(100)\n",
    "plot = future_change.plot(1, 2, kind='scatter', xlim=(0,45), ylim=(-1.00, 2))"
   ]
  },
  {
   "cell_type": "code",
   "execution_count": 6,
   "metadata": {
    "collapsed": true
   },
   "outputs": [],
   "source": [
    "freq_dict = {\n",
    "    '<5': [],\n",
    "    '5-10': [],\n",
    "    '10-15': [],\n",
    "    '15-20': [],\n",
    "    '20-25': [],\n",
    "    '25-30': [],\n",
    "    '30-35': [],\n",
    "    '35-40': [],\n",
    "    '40-45': [],\n",
    "#     '45-50': []\n",
    "}\n",
    "\n",
    "for val in loss_1_year:\n",
    "    if val[1] < 5:\n",
    "        freq_dict['<5'].append(val[2])\n",
    "    elif val[1] < 10:\n",
    "        freq_dict['5-10'].append(val[2])\n",
    "    elif val[1] < 15:\n",
    "        freq_dict['10-15'].append(val[2])\n",
    "    elif val[1] < 20:\n",
    "        freq_dict['15-20'].append(val[2])\n",
    "    elif val[1] < 25:\n",
    "        freq_dict['20-25'].append(val[2])\n",
    "    elif val[1] < 30:\n",
    "        freq_dict['25-30'].append(val[2])\n",
    "    elif val[1] < 35:\n",
    "        freq_dict['30-35'].append(val[2])\n",
    "    elif val[1] < 40:\n",
    "        freq_dict['35-40'].append(val[2])\n",
    "    elif val[1] < 45:\n",
    "        freq_dict['40-45'].append(val[2])\n",
    "#     elif val[1] < 50:\n",
    "#         freq_dict['45-50'].append(val[2])"
   ]
  },
  {
   "cell_type": "code",
   "execution_count": 7,
   "metadata": {},
   "outputs": [
    {
     "data": {
      "text/html": [
       "<div>\n",
       "<style>\n",
       "    .dataframe thead tr:only-child th {\n",
       "        text-align: right;\n",
       "    }\n",
       "\n",
       "    .dataframe thead th {\n",
       "        text-align: left;\n",
       "    }\n",
       "\n",
       "    .dataframe tbody tr th {\n",
       "        vertical-align: top;\n",
       "    }\n",
       "</style>\n",
       "<table border=\"1\" class=\"dataframe\">\n",
       "  <thead>\n",
       "    <tr style=\"text-align: right;\">\n",
       "      <th></th>\n",
       "      <th>bin</th>\n",
       "      <th>average 1-yr return</th>\n",
       "      <th>PE Ratio</th>\n",
       "    </tr>\n",
       "  </thead>\n",
       "  <tbody>\n",
       "    <tr>\n",
       "      <th>0</th>\n",
       "      <td>&lt;5</td>\n",
       "      <td>0.203718</td>\n",
       "      <td>2.0</td>\n",
       "    </tr>\n",
       "    <tr>\n",
       "      <th>1</th>\n",
       "      <td>5-10</td>\n",
       "      <td>0.087301</td>\n",
       "      <td>7.5</td>\n",
       "    </tr>\n",
       "    <tr>\n",
       "      <th>2</th>\n",
       "      <td>10-15</td>\n",
       "      <td>0.065944</td>\n",
       "      <td>12.5</td>\n",
       "    </tr>\n",
       "    <tr>\n",
       "      <th>3</th>\n",
       "      <td>15-20</td>\n",
       "      <td>0.012314</td>\n",
       "      <td>17.5</td>\n",
       "    </tr>\n",
       "    <tr>\n",
       "      <th>4</th>\n",
       "      <td>20-25</td>\n",
       "      <td>0.013479</td>\n",
       "      <td>22.5</td>\n",
       "    </tr>\n",
       "    <tr>\n",
       "      <th>5</th>\n",
       "      <td>25-30</td>\n",
       "      <td>0.029879</td>\n",
       "      <td>27.5</td>\n",
       "    </tr>\n",
       "    <tr>\n",
       "      <th>6</th>\n",
       "      <td>30-35</td>\n",
       "      <td>-0.016930</td>\n",
       "      <td>32.5</td>\n",
       "    </tr>\n",
       "    <tr>\n",
       "      <th>7</th>\n",
       "      <td>35-40</td>\n",
       "      <td>0.039134</td>\n",
       "      <td>37.5</td>\n",
       "    </tr>\n",
       "    <tr>\n",
       "      <th>8</th>\n",
       "      <td>40-45</td>\n",
       "      <td>-0.054281</td>\n",
       "      <td>42.5</td>\n",
       "    </tr>\n",
       "  </tbody>\n",
       "</table>\n",
       "</div>"
      ],
      "text/plain": [
       "     bin  average 1-yr return  PE Ratio\n",
       "0     <5             0.203718       2.0\n",
       "1   5-10             0.087301       7.5\n",
       "2  10-15             0.065944      12.5\n",
       "3  15-20             0.012314      17.5\n",
       "4  20-25             0.013479      22.5\n",
       "5  25-30             0.029879      27.5\n",
       "6  30-35            -0.016930      32.5\n",
       "7  35-40             0.039134      37.5\n",
       "8  40-45            -0.054281      42.5"
      ]
     },
     "execution_count": 7,
     "metadata": {},
     "output_type": "execute_result"
    }
   ],
   "source": [
    "avg_change = [(key, np.mean(value)) for key, value in freq_dict.items()]\n",
    "new_df = pd.DataFrame(avg_change)\n",
    "new_df['PE Ratio'] = [2,7.5,12.5,17.5,22.5,27.5,32.5,37.5,42.5]\n",
    "new_df.columns = ['bin', 'average 1-yr return', 'PE Ratio']\n",
    "new_df"
   ]
  },
  {
   "cell_type": "code",
   "execution_count": 8,
   "metadata": {},
   "outputs": [
    {
     "data": {
      "text/plain": [
       "<matplotlib.axes._subplots.AxesSubplot at 0x1124cf358>"
      ]
     },
     "execution_count": 8,
     "metadata": {},
     "output_type": "execute_result"
    },
    {
     "data": {
      "image/png": "[encoded data removed]",
      "text/plain": [
       "<matplotlib.figure.Figure at 0x112595320>"
      ]
     },
     "metadata": {},
     "output_type": "display_data"
    }
   ],
   "source": [
    "\n",
    "new_df.plot('PE Ratio',1, kind='scatter', figsize=(12,6))\n"
   ]
  },
  {
   "cell_type": "code",
   "execution_count": 9,
   "metadata": {
    "collapsed": true
   },
   "outputs": [],
   "source": [
    "loss_10_year = []\n",
    "for ix, month_year in enumerate(all_periods):\n",
    "    try:\n",
    "        future_val = all_periods[ix + 120][1]\n",
    "        pct_change = (future_val - month_year[1]) / month_year[1]\n",
    "        loss_10_year.append((month_year[0], month_year[2], pct_change))\n",
    "    except:\n",
    "        pass"
   ]
  },
  {
   "cell_type": "code",
   "execution_count": 10,
   "metadata": {
    "collapsed": true
   },
   "outputs": [],
   "source": [
    "freq_dict_10 = {\n",
    "    '<5': [],\n",
    "    '5-10': [],\n",
    "    '10-15': [],\n",
    "    '15-20': [],\n",
    "    '20-25': [],\n",
    "    '25-30': [],\n",
    "    '30-35': [],\n",
    "    '35-40': [],\n",
    "    '40-45': [],\n",
    "#     '45-50': []\n",
    "}\n",
    "\n",
    "for val in loss_10_year:\n",
    "    if val[1] < 5:\n",
    "        freq_dict_10['<5'].append(val[2])\n",
    "    elif val[1] < 10:\n",
    "        freq_dict_10['5-10'].append(val[2])\n",
    "    elif val[1] < 15:\n",
    "        freq_dict_10['10-15'].append(val[2])\n",
    "    elif val[1] < 20:\n",
    "        freq_dict_10['15-20'].append(val[2])\n",
    "    elif val[1] < 25:\n",
    "        freq_dict_10['20-25'].append(val[2])\n",
    "    elif val[1] < 30:\n",
    "        freq_dict_10['25-30'].append(val[2])\n",
    "    elif val[1] < 35:\n",
    "        freq_dict_10['30-35'].append(val[2])\n",
    "    elif val[1] < 40:\n",
    "        freq_dict_10['35-40'].append(val[2])\n",
    "    elif val[1] < 45:\n",
    "        freq_dict_10['40-45'].append(val[2])"
   ]
  },
  {
   "cell_type": "code",
   "execution_count": 11,
   "metadata": {},
   "outputs": [
    {
     "data": {
      "text/html": [
       "<div>\n",
       "<style>\n",
       "    .dataframe thead tr:only-child th {\n",
       "        text-align: right;\n",
       "    }\n",
       "\n",
       "    .dataframe thead th {\n",
       "        text-align: left;\n",
       "    }\n",
       "\n",
       "    .dataframe tbody tr th {\n",
       "        vertical-align: top;\n",
       "    }\n",
       "</style>\n",
       "<table border=\"1\" class=\"dataframe\">\n",
       "  <thead>\n",
       "    <tr style=\"text-align: right;\">\n",
       "      <th></th>\n",
       "      <th>bin</th>\n",
       "      <th>average 10-yr return</th>\n",
       "      <th>PE Ratio</th>\n",
       "    </tr>\n",
       "  </thead>\n",
       "  <tbody>\n",
       "    <tr>\n",
       "      <th>0</th>\n",
       "      <td>&lt;5</td>\n",
       "      <td>1.744360</td>\n",
       "      <td>2.0</td>\n",
       "    </tr>\n",
       "    <tr>\n",
       "      <th>1</th>\n",
       "      <td>5-10</td>\n",
       "      <td>0.884003</td>\n",
       "      <td>7.5</td>\n",
       "    </tr>\n",
       "    <tr>\n",
       "      <th>2</th>\n",
       "      <td>10-15</td>\n",
       "      <td>0.436994</td>\n",
       "      <td>12.5</td>\n",
       "    </tr>\n",
       "    <tr>\n",
       "      <th>3</th>\n",
       "      <td>15-20</td>\n",
       "      <td>0.279407</td>\n",
       "      <td>17.5</td>\n",
       "    </tr>\n",
       "    <tr>\n",
       "      <th>4</th>\n",
       "      <td>20-25</td>\n",
       "      <td>0.039458</td>\n",
       "      <td>22.5</td>\n",
       "    </tr>\n",
       "    <tr>\n",
       "      <th>5</th>\n",
       "      <td>25-30</td>\n",
       "      <td>0.255556</td>\n",
       "      <td>27.5</td>\n",
       "    </tr>\n",
       "    <tr>\n",
       "      <th>6</th>\n",
       "      <td>30-35</td>\n",
       "      <td>-0.045871</td>\n",
       "      <td>32.5</td>\n",
       "    </tr>\n",
       "    <tr>\n",
       "      <th>7</th>\n",
       "      <td>35-40</td>\n",
       "      <td>-0.211461</td>\n",
       "      <td>37.5</td>\n",
       "    </tr>\n",
       "    <tr>\n",
       "      <th>8</th>\n",
       "      <td>40-45</td>\n",
       "      <td>-0.422822</td>\n",
       "      <td>42.5</td>\n",
       "    </tr>\n",
       "  </tbody>\n",
       "</table>\n",
       "</div>"
      ],
      "text/plain": [
       "     bin  average 10-yr return  PE Ratio\n",
       "0     <5              1.744360       2.0\n",
       "1   5-10              0.884003       7.5\n",
       "2  10-15              0.436994      12.5\n",
       "3  15-20              0.279407      17.5\n",
       "4  20-25              0.039458      22.5\n",
       "5  25-30              0.255556      27.5\n",
       "6  30-35             -0.045871      32.5\n",
       "7  35-40             -0.211461      37.5\n",
       "8  40-45             -0.422822      42.5"
      ]
     },
     "execution_count": 11,
     "metadata": {},
     "output_type": "execute_result"
    }
   ],
   "source": [
    "avg_change_10 = [(key, np.mean(value)) for key, value in freq_dict_10.items()]\n",
    "new_df_10 = pd.DataFrame(avg_change_10)\n",
    "new_df_10['PE Ratio'] = [2,7.5,12.5,17.5,22.5,27.5,32.5,37.5,42.5]\n",
    "new_df_10.columns = ['bin', 'average 10-yr return', 'PE Ratio']\n",
    "new_df_10"
   ]
  },
  {
   "cell_type": "code",
   "execution_count": 12,
   "metadata": {},
   "outputs": [
    {
     "data": {
      "image/png": "[encoded data removed]",
      "text/plain": [
       "<matplotlib.figure.Figure at 0x1125a32b0>"
      ]
     },
     "metadata": {},
     "output_type": "display_data"
    }
   ],
   "source": [
    "# Fit with polyfit\n",
    "x = new_df_10['PE Ratio']\n",
    "y = new_df_10['average 10-yr return']\n",
    "b, m = polyfit(x, y, 1)\n",
    "\n",
    "plt.figure(figsize=(12,6))\n",
    "plt.plot(x, y, '.')\n",
    "plt.plot(x, b + m * x, '-')\n",
    "plt.show()\n",
    "\n",
    "# new_df_10.plot('PE Ratio',1, kind='scatter', figsize=(12,6))\n"
   ]
  },
  {
   "cell_type": "code",
   "execution_count": 21,
   "metadata": {},
   "outputs": [
    {
     "data": {
      "text/plain": [
       "{'10-15': {'corrs': 82, 'not_corrs': 381, 'pct. corrs': 0.1771058315334773},\n",
       " '15-20': {'corrs': 135, 'not_corrs': 379, 'pct. corrs': 0.26264591439688717},\n",
       " '20-25': {'corrs': 67, 'not_corrs': 193, 'pct. corrs': 0.25769230769230766},\n",
       " '25-30': {'corrs': 19, 'not_corrs': 98, 'pct. corrs': 0.1623931623931624},\n",
       " '30-35': {'corrs': 10, 'not_corrs': 13, 'pct. corrs': 0.43478260869565216},\n",
       " '35-40': {'corrs': 5, 'not_corrs': 8, 'pct. corrs': 0.38461538461538464},\n",
       " '40-45': {'corrs': 7, 'not_corrs': 14, 'pct. corrs': 0.3333333333333333},\n",
       " '5-10': {'corrs': 38, 'not_corrs': 188, 'pct. corrs': 0.168141592920354},\n",
       " '<5': {'corrs': 0, 'not_corrs': 1, 'pct. corrs': 0.0}}"
      ]
     },
     "execution_count": 21,
     "metadata": {},
     "output_type": "execute_result"
    }
   ],
   "source": [
    "# Find the percentage of time market correction happens within a year given PE value\n",
    "correction_dict = {}\n",
    "corrs = 0\n",
    "not_corrs = 0\n",
    "for key, value in freq_dict.items():\n",
    "    for val in value:\n",
    "        if val <= -0.1:\n",
    "            corrs += 1\n",
    "        else:\n",
    "            not_corrs += 1\n",
    "    correction_dict[key] = {'corrs': corrs, 'not_corrs': not_corrs, 'pct. corrs': corrs/(not_corrs + corrs)}\n",
    "    corrs = 0\n",
    "    not_corrs = 0\n",
    "correction_dict"
   ]
  },
  {
   "cell_type": "code",
   "execution_count": 22,
   "metadata": {},
   "outputs": [
    {
     "data": {
      "text/plain": [
       "{'10-15': {'corrs': 148, 'not_corrs': 312, 'pct. corrs': 0.3217391304347826},\n",
       " '15-20': {'corrs': 140, 'not_corrs': 358, 'pct. corrs': 0.28112449799196787},\n",
       " '20-25': {'corrs': 85, 'not_corrs': 120, 'pct. corrs': 0.4146341463414634},\n",
       " '25-30': {'corrs': 13, 'not_corrs': 70, 'pct. corrs': 0.1566265060240964},\n",
       " '30-35': {'corrs': 13, 'not_corrs': 10, 'pct. corrs': 0.5652173913043478},\n",
       " '35-40': {'corrs': 9, 'not_corrs': 4, 'pct. corrs': 0.6923076923076923},\n",
       " '40-45': {'corrs': 21, 'not_corrs': 0, 'pct. corrs': 1.0},\n",
       " '5-10': {'corrs': 7, 'not_corrs': 219, 'pct. corrs': 0.030973451327433628},\n",
       " '<5': {'corrs': 0, 'not_corrs': 1, 'pct. corrs': 0.0}}"
      ]
     },
     "execution_count": 22,
     "metadata": {},
     "output_type": "execute_result"
    }
   ],
   "source": [
    "# Find the percentage of time market is over 10% below current value 10 years after given PE value\n",
    "correction_dict_10 = {}\n",
    "corrs = 0\n",
    "not_corrs = 0\n",
    "for key, value in freq_dict_10.items():\n",
    "    for val in value:\n",
    "        if val <= -0.1:\n",
    "            corrs += 1\n",
    "        else:\n",
    "            not_corrs += 1\n",
    "    correction_dict_10[key] = {'corrs': corrs, 'not_corrs': not_corrs, 'pct. corrs': corrs/(corrs + not_corrs)}\n",
    "    corrs = 0\n",
    "    not_corrs = 0\n",
    "correction_dict_10"
   ]
  },
  {
   "cell_type": "code",
   "execution_count": 32,
   "metadata": {},
   "outputs": [
    {
     "data": {
      "text/plain": [
       "[<matplotlib.lines.Line2D at 0x112e8ab70>]"
      ]
     },
     "execution_count": 32,
     "metadata": {},
     "output_type": "execute_result"
    },
    {
     "data": {
      "image/png": "[encoded data removed]",
      "text/plain": [
       "<matplotlib.figure.Figure at 0x112dcf2b0>"
      ]
     },
     "metadata": {},
     "output_type": "display_data"
    }
   ],
   "source": [
    "# Percentage of time market is at least 10% below current value 10 years from now. PE is x-axis\n",
    "pct_prob_loss_10 = [(key, value['pct. corrs']) for key, value in correction_dict_10.items()]\n",
    "pct_vals_10 = [val[1] for val in pct_prob_loss_10]\n",
    "plt.plot([2,7.5,12.5,17.5,22.5,27.5,32.5,37.5,42.5], pct_vals_10)\n"
   ]
  },
  {
   "cell_type": "code",
   "execution_count": 33,
   "metadata": {},
   "outputs": [
    {
     "data": {
      "text/plain": [
       "[<matplotlib.lines.Line2D at 0x112f7edd8>]"
      ]
     },
     "execution_count": 33,
     "metadata": {},
     "output_type": "execute_result"
    },
    {
     "data": {
      "image/png": "[encoded data removed]",
      "text/plain": [
       "<matplotlib.figure.Figure at 0x112ec8160>"
      ]
     },
     "metadata": {},
     "output_type": "display_data"
    }
   ],
   "source": [
    "pct_prob_loss = [(key, value['pct. corrs']) for key, value in correction_dict.items()]\n",
    "pct_vals = [val[1] for val in pct_prob_loss]\n",
    "plt.plot([2,7.5,12.5,17.5,22.5,27.5,32.5,37.5,42.5], pct_vals)"
   ]
  },
  {
   "cell_type": "code",
   "execution_count": null,
   "metadata": {
    "collapsed": true
   },
   "outputs": [],
   "source": []
  }
 ],
 "metadata": {
  "kernelspec": {
   "display_name": "Python 3",
   "language": "python",
   "name": "python3"
  },
  "language_info": {
   "codemirror_mode": {
    "name": "ipython",
    "version": 3
   },
   "file_extension": ".py",
   "mimetype": "text/x-python",
   "name": "python",
   "nbconvert_exporter": "python",
   "pygments_lexer": "ipython3",
   "version": "3.6.2"
  }
 },
 "nbformat": 4,
 "nbformat_minor": 2
}
