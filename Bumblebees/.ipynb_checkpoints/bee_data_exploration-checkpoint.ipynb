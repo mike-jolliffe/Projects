{
 "cells": [
  {
   "cell_type": "code",
   "execution_count": 11,
   "metadata": {
    "collapsed": true
   },
   "outputs": [],
   "source": [
    "#imports\n",
    "import numpy as np\n",
    "import pandas as pd\n",
    "import sqlite3"
   ]
  },
  {
   "cell_type": "code",
   "execution_count": 12,
   "metadata": {},
   "outputs": [
    {
     "data": {
      "text/html": [
       "<div>\n",
       "<style>\n",
       "    .dataframe thead tr:only-child th {\n",
       "        text-align: right;\n",
       "    }\n",
       "\n",
       "    .dataframe thead th {\n",
       "        text-align: left;\n",
       "    }\n",
       "\n",
       "    .dataframe tbody tr th {\n",
       "        vertical-align: top;\n",
       "    }\n",
       "</style>\n",
       "<table border=\"1\" class=\"dataframe\">\n",
       "  <thead>\n",
       "    <tr style=\"text-align: right;\">\n",
       "      <th></th>\n",
       "      <th>bee_id</th>\n",
       "      <th>common_name</th>\n",
       "      <th>dateidentified</th>\n",
       "      <th>latitude</th>\n",
       "      <th>longitude</th>\n",
       "      <th>floral_host</th>\n",
       "      <th>sightingstatus_id</th>\n",
       "      <th>native_status</th>\n",
       "    </tr>\n",
       "  </thead>\n",
       "  <tbody>\n",
       "    <tr>\n",
       "      <th>0</th>\n",
       "      <td>21041</td>\n",
       "      <td>Yellow-faced bumble bee</td>\n",
       "      <td>2017-08-05 00:00:00.000000</td>\n",
       "      <td>45.524403</td>\n",
       "      <td>-122.637095</td>\n",
       "      <td>None</td>\n",
       "      <td>1</td>\n",
       "      <td>None</td>\n",
       "    </tr>\n",
       "    <tr>\n",
       "      <th>1</th>\n",
       "      <td>20632</td>\n",
       "      <td>Yellow-faced bumble bee</td>\n",
       "      <td>2017-08-08 00:00:00.000000</td>\n",
       "      <td>45.494031</td>\n",
       "      <td>-122.427821</td>\n",
       "      <td>Joe Pye weed</td>\n",
       "      <td>1</td>\n",
       "      <td>Non-native</td>\n",
       "    </tr>\n",
       "    <tr>\n",
       "      <th>2</th>\n",
       "      <td>20423</td>\n",
       "      <td>Obscure bumble bee</td>\n",
       "      <td>2017-08-06 00:00:00.000000</td>\n",
       "      <td>45.584405</td>\n",
       "      <td>-122.723538</td>\n",
       "      <td>None</td>\n",
       "      <td>1</td>\n",
       "      <td>None</td>\n",
       "    </tr>\n",
       "    <tr>\n",
       "      <th>3</th>\n",
       "      <td>20263</td>\n",
       "      <td>Bumble bee</td>\n",
       "      <td>2017-08-03 00:00:00.000000</td>\n",
       "      <td>45.494263</td>\n",
       "      <td>-122.427542</td>\n",
       "      <td>Aster Douglasii</td>\n",
       "      <td>1</td>\n",
       "      <td>Native</td>\n",
       "    </tr>\n",
       "    <tr>\n",
       "      <th>4</th>\n",
       "      <td>19923</td>\n",
       "      <td>Bumble bee</td>\n",
       "      <td>2017-07-27 00:00:00.000000</td>\n",
       "      <td>45.539996</td>\n",
       "      <td>-122.571588</td>\n",
       "      <td></td>\n",
       "      <td>1</td>\n",
       "      <td>None</td>\n",
       "    </tr>\n",
       "  </tbody>\n",
       "</table>\n",
       "</div>"
      ],
      "text/plain": [
       "   bee_id              common_name              dateidentified   latitude  \\\n",
       "0   21041  Yellow-faced bumble bee  2017-08-05 00:00:00.000000  45.524403   \n",
       "1   20632  Yellow-faced bumble bee  2017-08-08 00:00:00.000000  45.494031   \n",
       "2   20423       Obscure bumble bee  2017-08-06 00:00:00.000000  45.584405   \n",
       "3   20263               Bumble bee  2017-08-03 00:00:00.000000  45.494263   \n",
       "4   19923               Bumble bee  2017-07-27 00:00:00.000000  45.539996   \n",
       "\n",
       "    longitude      floral_host  sightingstatus_id native_status  \n",
       "0 -122.637095             None                  1          None  \n",
       "1 -122.427821     Joe Pye weed                  1    Non-native  \n",
       "2 -122.723538             None                  1          None  \n",
       "3 -122.427542  Aster Douglasii                  1        Native  \n",
       "4 -122.571588                                   1          None  "
      ]
     },
     "execution_count": 12,
     "metadata": {},
     "output_type": "execute_result"
    }
   ],
   "source": [
    "# Connect to DB and read all data\n",
    "conn = sqlite3.connect('bee_sightings.sqlite')\n",
    "bee_data = pd.read_sql('SELECT * from bee_sightings', conn)\n",
    "bee_data.head()"
   ]
  },
  {
   "cell_type": "code",
   "execution_count": null,
   "metadata": {
    "collapsed": true
   },
   "outputs": [],
   "source": [
    "# Query for total abundance/count by species name within verified sightings\n",
    "\n",
    "# Plot total bee species diversity on the y-axis, and Native, Non-native on the x-axis.\n",
    "\n",
    "# Most popular plant? Which plant saw the most visits, the largest diversity of visitors.\n",
    "    # Bloom times a factor? Commonness a factor?\n",
    "    \n",
    "# Plot bee species on x-axis, flower species on y-axis. Any cool clustering happening? Color bee species differently\n",
    "  #to see if bee species cluster around certain plant species\n",
    "    \n",
    "# Generalization ratio: calculate the variance in visits for a particular species across all flower species. Fewer\n",
    "  #the species, less the variance, and thus the more specialist a species might be.\n",
    "\n"
   ]
  }
 ],
 "metadata": {
  "kernelspec": {
   "display_name": "Python 3",
   "language": "python",
   "name": "python3"
  },
  "language_info": {
   "codemirror_mode": {
    "name": "ipython",
    "version": 3
   },
   "file_extension": ".py",
   "mimetype": "text/x-python",
   "name": "python",
   "nbconvert_exporter": "python",
   "pygments_lexer": "ipython3",
   "version": "3.6.2"
  }
 },
 "nbformat": 4,
 "nbformat_minor": 2
}
